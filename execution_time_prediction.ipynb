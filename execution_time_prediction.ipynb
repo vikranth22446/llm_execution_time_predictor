{
 "cells": [
  {
   "cell_type": "code",
   "execution_count": 3,
   "id": "cd274492",
   "metadata": {},
   "outputs": [],
   "source": [
    "from train_utils import build_stage_features, train_linear_predictor\n",
    "import pandas as pd\n",
    "import json"
   ]
  },
  {
   "cell_type": "code",
   "execution_count": 4,
   "id": "254305b4",
   "metadata": {},
   "outputs": [],
   "source": [
    "benchmark_path = \"benchmark_data_Qwen_Qwen3-4B_TP_1_PP_1.json\"\n",
    "\n",
    "with open(benchmark_path, \"r\") as f:\n",
    "    results = json.load(f)\n",
    "df = pd.DataFrame(results[\"results\"])\n",
    "\n",
    "train_df_prefill = build_stage_features(df, stage=\"prefill\")\n",
    "train_df_decode = build_stage_features(df, stage=\"decode\")"
   ]
  },
  {
   "cell_type": "code",
   "execution_count": 5,
   "id": "62f93227",
   "metadata": {},
   "outputs": [
    {
     "name": "stdout",
     "output_type": "stream",
     "text": [
      "Linear Regression: prefill\n",
      "Train RMSE: 4.30ms\n",
      "Train MAE: 2.53ms\n",
      "Train R2: 1.0000\n",
      "Linear Regression: decode\n",
      "Train RMSE: 0.25ms\n",
      "Train MAE: 0.20ms\n",
      "Train R2: 0.9676\n"
     ]
    }
   ],
   "source": [
    "lr_model_prefill = train_linear_predictor(train_df_prefill, \"prefill\")\n",
    "lr_model_decode = train_linear_predictor(train_df_decode, \"decode\")"
   ]
  }
 ],
 "metadata": {
  "kernelspec": {
   "display_name": "sglang",
   "language": "python",
   "name": "python3"
  },
  "language_info": {
   "codemirror_mode": {
    "name": "ipython",
    "version": 3
   },
   "file_extension": ".py",
   "mimetype": "text/x-python",
   "name": "python",
   "nbconvert_exporter": "python",
   "pygments_lexer": "ipython3",
   "version": "3.12.11"
  }
 },
 "nbformat": 4,
 "nbformat_minor": 5
}
