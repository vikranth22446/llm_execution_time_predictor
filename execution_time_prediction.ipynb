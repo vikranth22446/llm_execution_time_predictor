{
 "cells": [
  {
   "cell_type": "code",
   "execution_count": 8,
   "id": "cd274492",
   "metadata": {},
   "outputs": [],
   "source": [
    "from llm_execution_time_predictor.train_utils import (\n",
    "    build_stage_features,\n",
    "    train_linear_predictor,\n",
    "    train_tree_predictor,\n",
    ")\n",
    "import pandas as pd\n",
    "import json"
   ]
  },
  {
   "cell_type": "code",
   "execution_count": 2,
   "id": "3cf6cac2",
   "metadata": {},
   "outputs": [],
   "source": [
    "import pandas as pd\n",
    "\n",
    "# List your files here\n",
    "files = [\n",
    "    \"prefill_profile_profiling_tp0.jsonl\",\n",
    "    \"profile_decode_profiling_tp0.jsonl\",\n",
    "    \"test_profile_results.jsonl\",\n",
    "]\n",
    "dfs = [pd.read_json(f, lines=True) for f in files]\n",
    "combined_df = pd.concat(dfs, ignore_index=True)\n",
    "combined_df.drop([\"throughput\", \"timestamp\", \"process_id\"], axis=1, inplace=True)"
   ]
  },
  {
   "cell_type": "code",
   "execution_count": 3,
   "id": "29cd56e5",
   "metadata": {},
   "outputs": [],
   "source": [
    "# combined_df.to_csv(\"combined_profile_results.csv\", index=False)\n",
    "import numpy as np\n",
    "\n",
    "combined_df[\"input_len\"] = combined_df[\"batch_lens\"].apply(\n",
    "    lambda x: np.mean(x) if isinstance(x, list) else 0\n",
    ")\n",
    "prefill_df = combined_df[combined_df[\"forward_mode\"] == \"prefill\"]\n",
    "decode_df = combined_df[combined_df[\"forward_mode\"] == \"decode\"]"
   ]
  },
  {
   "cell_type": "code",
   "execution_count": null,
   "id": "e638d592",
   "metadata": {},
   "outputs": [],
   "source": []
  },
  {
   "cell_type": "code",
   "execution_count": 4,
   "id": "18eccb4b",
   "metadata": {},
   "outputs": [],
   "source": [
    "# convert the 'batch_lens' column into a plain Python list"
   ]
  },
  {
   "cell_type": "code",
   "execution_count": 5,
   "id": "254305b4",
   "metadata": {},
   "outputs": [],
   "source": [
    "train_df_prefill = build_stage_features(prefill_df, stage=\"prefill\")\n",
    "train_df_decode = build_stage_features(decode_df, stage=\"decode\")"
   ]
  },
  {
   "cell_type": "code",
   "execution_count": 9,
   "id": "62f93227",
   "metadata": {},
   "outputs": [
    {
     "name": "stdout",
     "output_type": "stream",
     "text": [
      "Linear Regression: prefill\n",
      "Train RMSE: 8.32ms\n",
      "Train MAE: 5.03ms\n",
      "Train R2: 0.9962\n",
      "Linear Regression: decode\n",
      "Train RMSE: 3.17ms\n",
      "Train MAE: 1.93ms\n",
      "Train R2: 0.9354\n"
     ]
    }
   ],
   "source": [
    "lr_model_prefill = train_linear_predictor(train_df_prefill, \"prefill\")\n",
    "lr_model_decode = train_linear_predictor(train_df_decode, \"decode\")"
   ]
  },
  {
   "cell_type": "code",
   "execution_count": 10,
   "id": "918dd7a5",
   "metadata": {},
   "outputs": [
    {
     "name": "stdout",
     "output_type": "stream",
     "text": [
      "Decision Tree: prefill\n",
      "Train RMSE: 7.82ms\n",
      "Train MAE: 3.61ms\n",
      "Train R2: 0.9967\n",
      "Decision Tree: decode\n",
      "Train RMSE: 2.09ms\n",
      "Train MAE: 0.17ms\n",
      "Train R2: 0.9720\n"
     ]
    }
   ],
   "source": [
    "tr_model_prefill = train_tree_predictor(train_df_prefill, \"prefill\")\n",
    "tr_model_decode = train_tree_predictor(train_df_decode, \"decode\")"
   ]
  },
  {
   "cell_type": "code",
   "execution_count": null,
   "id": "250eaf12",
   "metadata": {},
   "outputs": [],
   "source": []
  }
 ],
 "metadata": {
  "kernelspec": {
   "display_name": "sglang",
   "language": "python",
   "name": "python3"
  },
  "language_info": {
   "codemirror_mode": {
    "name": "ipython",
    "version": 3
   },
   "file_extension": ".py",
   "mimetype": "text/x-python",
   "name": "python",
   "nbconvert_exporter": "python",
   "pygments_lexer": "ipython3",
   "version": "3.12.11"
  }
 },
 "nbformat": 4,
 "nbformat_minor": 5
}
